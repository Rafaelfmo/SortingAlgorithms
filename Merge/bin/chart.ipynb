{
 "cells": [
  {
   "cell_type": "code",
   "execution_count": null,
   "metadata": {},
   "outputs": [],
   "source": [
    "import matplotlib.pyplot as plt\n",
    "import pandas as pd\n",
    "\n",
    "# Read the data from the CSV file\n",
    "data = pd.read_csv('merge_sort.csv')\n",
    "\n",
    "# Plot the data\n",
    "plt.plot(data['n'], data['time'], 'o-')\n",
    "plt.xlabel('n')\n",
    "plt.ylabel('Time (s)')\n",
    "\n",
    "# Save the plot\n",
    "plt.savefig('merge_sort.png')\n",
    "\n",
    "# Display the plot\n",
    "plt.show()\n",
    "\n"
   ]
  }
 ],
 "metadata": {
  "language_info": {
   "name": "python"
  }
 },
 "nbformat": 4,
 "nbformat_minor": 2
}
